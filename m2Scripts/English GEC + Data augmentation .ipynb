{
 "cells": [
  {
   "cell_type": "code",
   "execution_count": 1,
   "metadata": {},
   "outputs": [
    {
     "name": "stdout",
     "output_type": "stream",
     "text": [
      "\u001b[1m\u001b[37mta                 \u001b[m  Tue Oct 19 19:33:41 2021  \u001b[1m\u001b[30m440.95.01\u001b[m\n",
      "\u001b[36m[0]\u001b[m \u001b[34mTITAN RTX       \u001b[m |\u001b[31m 24'C\u001b[m, \u001b[32m  0 %\u001b[m | \u001b[36m\u001b[1m\u001b[33m  951\u001b[m / \u001b[33m24220\u001b[m MB | \u001b[1m\u001b[30mwzx\u001b[m(\u001b[33m939M\u001b[m)\n",
      "\u001b[36m[1]\u001b[m \u001b[34mTITAN RTX       \u001b[m |\u001b[1m\u001b[31m 74'C\u001b[m, \u001b[1m\u001b[32m 96 %\u001b[m | \u001b[36m\u001b[1m\u001b[33m 9165\u001b[m / \u001b[33m24219\u001b[m MB | \u001b[1m\u001b[30mwzx\u001b[m(\u001b[33m7629M\u001b[m) \u001b[1m\u001b[30mgdm\u001b[m(\u001b[33m21M\u001b[m) \u001b[1m\u001b[30mgdm\u001b[m(\u001b[33m60M\u001b[m)\n"
     ]
    }
   ],
   "source": [
    "! gpustat"
   ]
  },
  {
   "cell_type": "code",
   "execution_count": 2,
   "metadata": {},
   "outputs": [
    {
     "name": "stderr",
     "output_type": "stream",
     "text": [
      "/home/aiman/anaconda3/lib/python3.6/site-packages/gensim/similarities/__init__.py:15: UserWarning: The gensim.similarities.levenshtein submodule is disabled, because the optional Levenshtein package <https://pypi.org/project/python-Levenshtein/> is unavailable. Install Levenhstein (e.g. `pip install python-Levenshtein`) to suppress this warning.\n",
      "  warnings.warn(msg)\n"
     ]
    }
   ],
   "source": [
    "import seq2seq\n",
    "import matplotlib.pyplot as plt\n",
    "%matplotlib inline"
   ]
  },
  {
   "cell_type": "markdown",
   "metadata": {},
   "source": [
    "## Load dependencies"
   ]
  },
  {
   "cell_type": "code",
   "execution_count": 3,
   "metadata": {},
   "outputs": [],
   "source": [
    "import tqdm\n",
    "import warnings\n",
    "import numpy as np\n",
    "import pandas as pd\n",
    "import matplotlib.pyplot as plt\n",
    "import spacy\n",
    "%matplotlib inline\n",
    "\n",
    "from IPython.core.display import display, HTML\n",
    "\n",
    "import torch\n",
    "import torch.nn as nn\n",
    "import torch.nn.functional as F\n",
    "import torch.optim as optim\n",
    "\n",
    "from torchtext.data import Dataset, Example, Field\n",
    "from torchtext.data.iterator import BucketIterator\n",
    "from torchtext.data.metrics import bleu_score\n",
    "from torchtext.datasets import Multi30k\n",
    "\n",
    "import time\n",
    "import re\n",
    "import os"
   ]
  },
  {
   "cell_type": "code",
   "execution_count": 4,
   "metadata": {},
   "outputs": [],
   "source": [
    "from torchtext import vocab , data\n",
    "from torchtext.data import TabularDataset, Field, Iterator, BucketIterator, ReversibleField\n",
    "from torchtext.vocab import Vectors, FastText\n",
    "\n",
    "import pyarabic.araby as araby\n",
    "import pyarabic.number as number"
   ]
  },
  {
   "cell_type": "code",
   "execution_count": 5,
   "metadata": {},
   "outputs": [],
   "source": [
    "import bpemb\n",
    "from bpemb import BPEmb\n",
    "bpemb_ar = BPEmb(lang=\"en\", vs=1000, dim=300) "
   ]
  },
  {
   "cell_type": "code",
   "execution_count": 6,
   "metadata": {},
   "outputs": [],
   "source": [
    "warnings.simplefilter(action='ignore', category=UserWarning)\n",
    "warnings.simplefilter(action='ignore', category=FutureWarning)\n",
    "warnings.simplefilter(action='ignore', category=RuntimeWarning)\n",
    "warnings.simplefilter(action='ignore', category=DeprecationWarning)"
   ]
  },
  {
   "cell_type": "code",
   "execution_count": 7,
   "metadata": {},
   "outputs": [
    {
     "name": "stdout",
     "output_type": "stream",
     "text": [
      "Device: cuda:0\n"
     ]
    }
   ],
   "source": [
    "SEED = 5002\n",
    "np.random.seed(SEED)\n",
    "torch.manual_seed(SEED)\n",
    "torch.cuda.manual_seed(SEED)\n",
    "torch.backends.cudnn.deterministic = True\n",
    "\n",
    "DEVICE = torch.device('cuda:0') #torch.device('cuda:0')\n",
    "print(f'Device: {DEVICE}')"
   ]
  },
  {
   "cell_type": "markdown",
   "metadata": {},
   "source": [
    "## Prepare data"
   ]
  },
  {
   "cell_type": "code",
   "execution_count": 8,
   "metadata": {},
   "outputs": [],
   "source": [
    "def normalizeString(s):\n",
    "    s = bpemb_ar.encode(s)\n",
    "    return s"
   ]
  },
  {
   "cell_type": "raw",
   "metadata": {},
   "source": [
    "spacy_en = spacy.load('en_core_web_sm')"
   ]
  },
  {
   "cell_type": "raw",
   "metadata": {},
   "source": [
    "def tokenize_en(text):\n",
    "    \"\"\"\n",
    "    Tokenizes English text from a string into a list of strings\n",
    "    \"\"\"\n",
    "    return [tok.text for tok in spacy_en.tokenizer(text)]"
   ]
  },
  {
   "cell_type": "code",
   "execution_count": 9,
   "metadata": {},
   "outputs": [],
   "source": [
    "SRC = Field(tokenize= normalizeString, init_token='<sos>', eos_token='<eos>', batch_first=True) \n",
    "TRG = Field(tokenize= normalizeString, init_token='<sos>', eos_token='<eos>', batch_first=True) "
   ]
  },
  {
   "cell_type": "code",
   "execution_count": 10,
   "metadata": {},
   "outputs": [],
   "source": [
    "train_data, valid_data, test_data = TabularDataset.splits(path='Data/',train='our_fce_train.csv',\n",
    "    validation='our_fce_devlop.csv' , test='fce-test.csv' , format='csv',\n",
    "    fields=[('src', SRC), ('trg', TRG)], skip_header=True)"
   ]
  },
  {
   "cell_type": "markdown",
   "metadata": {},
   "source": [
    "# Build data"
   ]
  },
  {
   "cell_type": "code",
   "execution_count": 11,
   "metadata": {},
   "outputs": [
    {
     "name": "stdout",
     "output_type": "stream",
     "text": [
      "CPU times: user 453 ms, sys: 3.94 ms, total: 457 ms\n",
      "Wall time: 455 ms\n"
     ]
    }
   ],
   "source": [
    "%%time\n",
    "MIN_COUNT = 2\n",
    "SRC.build_vocab(train_data, min_freq=MIN_COUNT)\n",
    "TRG.build_vocab(train_data, min_freq=MIN_COUNT)"
   ]
  },
  {
   "cell_type": "code",
   "execution_count": 12,
   "metadata": {},
   "outputs": [
    {
     "name": "stdout",
     "output_type": "stream",
     "text": [
      "Length of DE vocabulary: 938\n",
      "Length of EN vocabulary: 935\n"
     ]
    }
   ],
   "source": [
    "print(f'Length of DE vocabulary: {len(SRC.vocab):,}')\n",
    "print(f'Length of EN vocabulary: {len(TRG.vocab):,}')"
   ]
  },
  {
   "cell_type": "markdown",
   "metadata": {},
   "source": [
    "## Modeling"
   ]
  },
  {
   "cell_type": "markdown",
   "metadata": {},
   "source": [
    "***Multi Head Attention Layer***"
   ]
  },
  {
   "cell_type": "code",
   "execution_count": 13,
   "metadata": {},
   "outputs": [],
   "source": [
    "class MultiHeadAttentionLayer(nn.Module):\n",
    "\n",
    "    def __init__(self, d_model, n_heads):\n",
    "        super(MultiHeadAttentionLayer, self).__init__()\n",
    "        assert d_model % n_heads == 0\n",
    "        self.d_model = d_model\n",
    "        self.n_heads = n_heads\n",
    "        self.head_size = d_model // n_heads\n",
    "        self.fc_q = nn.Linear(d_model, d_model)\n",
    "        self.fc_k = nn.Linear(d_model, d_model)\n",
    "        self.fc_v = nn.Linear(d_model, d_model)\n",
    "        self.fc_o = nn.Linear(d_model, d_model)\n",
    "        \n",
    "    def forward(self, query, key, value, mask):\n",
    "        \"\"\"\n",
    "        :param Tensor[batch_size, q_len, d_model] query\n",
    "        :param Tensor[batch_size, k_len, d_model] key\n",
    "        :param Tensor[batch_size, v_len, d_model] value\n",
    "        :param Tensor[batch_size, ..., k_len] mask\n",
    "        :return Tensor[batch_size, q_len, d_model] context\n",
    "        :return Tensor[batch_size, n_heads, q_len, k_len] attention_weights\n",
    "        \"\"\"\n",
    "        Q = self.fc_q(query) # [batch_size, q_len, d_model]\n",
    "        K = self.fc_k(key) # [batch_size, k_len, d_model]\n",
    "        V = self.fc_v(value) # [batch_size, v_len, d_model]\n",
    "\n",
    "        Q = Q.view(Q.size(0), -1, self.n_heads, self.head_size).permute(0, 2, 1, 3) # [batch_size, n_heads, q_len, head_size]\n",
    "        K = K.view(K.size(0), -1, self.n_heads, self.head_size).permute(0, 2, 1, 3) # [batch_size, n_heads, k_len, head_size]\n",
    "        V = V.view(V.size(0), -1, self.n_heads, self.head_size).permute(0, 2, 1, 3) # [batch_size, n_heads, v_len, head_size]\n",
    "\n",
    "        scores = torch.matmul(Q, K.transpose(-1, -2)) # [batch_size, n_heads, q_len, k_len]\n",
    "        scores = scores / torch.sqrt(torch.FloatTensor([self.head_size]).to(Q.device))\n",
    "        if mask is not None:\n",
    "            scores = scores.masked_fill(mask == 0, -1e18)\n",
    "        attention_weights = F.softmax(scores , dim=-1) # [batch_size, n_heads, q_len, k_len]                \n",
    "        \n",
    "        context = torch.matmul(attention_weights, V) # [batch_size, n_heads, q_len, v_len]\n",
    "        context = context.permute(0, 2, 1, 3).contiguous() # [batch_size, q_len, n_heads, v_len]\n",
    "        context = context.view(context.size(0), -1, self.d_model)\n",
    "        context = self.fc_o(context) # [batch_size, q_len, d_model]\n",
    "\n",
    "        return context, attention_weights"
   ]
  },
  {
   "cell_type": "markdown",
   "metadata": {},
   "source": [
    "***Position-Wise Feed-Forward Layer***"
   ]
  },
  {
   "cell_type": "code",
   "execution_count": 14,
   "metadata": {},
   "outputs": [],
   "source": [
    "class PositionWiseFeedForwardLayer(nn.Module):\n",
    "    \n",
    "    def __init__(self, d_model, hidden_size):\n",
    "        super(PositionWiseFeedForwardLayer, self).__init__()\n",
    "        self.d_model = d_model\n",
    "        self.hidden_size = hidden_size\n",
    "        self.fc_in = nn.Linear(d_model, hidden_size)\n",
    "        self.fc_ou = nn.Linear(hidden_size, d_model)\n",
    "        \n",
    "    def forward(self, inputs):\n",
    "        \"\"\"\n",
    "        :param Tensor[batch_size, seq_len, d_model] inputs\n",
    "        :return Tensor[batch_size, seq_len, d_model] outputs\n",
    "        \"\"\"\n",
    "        outputs = F.relu(self.fc_in(inputs)) # [batch_size, seq_len, hidden_size]\n",
    "        return self.fc_ou(outputs) # [batch_size, seq_len, d_model]"
   ]
  },
  {
   "cell_type": "markdown",
   "metadata": {},
   "source": [
    "***Positional Encoding Layer***"
   ]
  },
  {
   "cell_type": "code",
   "execution_count": 15,
   "metadata": {},
   "outputs": [],
   "source": [
    "class PositionalEncodingLayer(nn.Module):\n",
    "    \n",
    "    def __init__(self, d_model, max_len=100):\n",
    "        super(PositionalEncodingLayer, self).__init__()\n",
    "        self.d_model = d_model\n",
    "        self.max_len = max_len\n",
    "    \n",
    "    def get_angles(self, positions, indexes):\n",
    "        d_model_tensor = torch.FloatTensor([[self.d_model]]).to(positions.device)\n",
    "        angle_rates = torch.pow(10000, (2 * (indexes // 2)) / d_model_tensor)\n",
    "        return positions / angle_rates\n",
    "\n",
    "    def forward(self, input_sequences):\n",
    "        \"\"\"\n",
    "        :param Tensor[batch_size, seq_len] input_sequences\n",
    "        :return Tensor[batch_size, seq_len, d_model] position_encoding\n",
    "        \"\"\"\n",
    "        positions = torch.arange(input_sequences.size(1)).unsqueeze(1).to(input_sequences.device) # [seq_len, 1]\n",
    "        indexes = torch.arange(self.d_model).unsqueeze(0).to(input_sequences.device) # [1, d_model]\n",
    "        angles = self.get_angles(positions, indexes) # [seq_len, d_model]\n",
    "        angles[:, 0::2] = torch.sin(angles[:, 0::2]) # apply sin to even indices in the tensor; 2i\n",
    "        angles[:, 1::2] = torch.cos(angles[:, 1::2]) # apply cos to odd indices in the tensor; 2i\n",
    "        position_encoding = angles.unsqueeze(0).repeat(input_sequences.size(0), 1, 1) # [batch_size, seq_len, d_model]\n",
    "        return position_encoding"
   ]
  },
  {
   "cell_type": "code",
   "execution_count": 16,
   "metadata": {},
   "outputs": [
    {
     "name": "stdout",
     "output_type": "stream",
     "text": [
      "(64, 50, 512)\n"
     ]
    },
    {
     "data": {
      "image/png": "[encoded data removed]",
      "text/plain": [
       "<Figure size 432x288 with 2 Axes>"
      ]
     },
     "metadata": {},
     "output_type": "display_data"
    }
   ],
   "source": [
    "pos_encoding = PositionalEncodingLayer(d_model=512)(torch.randint(100, size=(64, 50))).numpy()\n",
    "print(pos_encoding.shape)\n",
    "plt.pcolormesh(pos_encoding[0], cmap='RdBu')\n",
    "plt.xlabel('Depth')\n",
    "plt.ylabel('Position')\n",
    "plt.colorbar()\n",
    "plt.show()"
   ]
  },
  {
   "cell_type": "markdown",
   "metadata": {},
   "source": [
    "***Encoder Block Layer***"
   ]
  },
  {
   "cell_type": "code",
   "execution_count": 17,
   "metadata": {},
   "outputs": [],
   "source": [
    "class EncoderBlockLayer(nn.Module):\n",
    "    \n",
    "    def __init__(self, d_model, n_heads, hidden_size, dropout):\n",
    "        super(EncoderBlockLayer, self).__init__()\n",
    "        self.d_model = d_model\n",
    "        self.n_heads = n_heads\n",
    "        self.hidden_size = hidden_size\n",
    "        self.dropout = nn.Dropout(p=dropout)\n",
    "        self.multi_head_attention_layer = MultiHeadAttentionLayer(d_model=d_model, n_heads=n_heads)\n",
    "        self.multi_head_attention_layer_norm = nn.LayerNorm(d_model)\n",
    "        self.position_wise_feed_forward_layer = PositionWiseFeedForwardLayer(d_model=d_model, hidden_size=hidden_size)\n",
    "        self.position_wise_feed_forward_layer_norm = nn.LayerNorm(d_model)\n",
    "    \n",
    "    def forward(self, src_inputs, src_mask):\n",
    "        \"\"\"\n",
    "        :param Tensor[batch_size, src_len, d_model] src_inputs\n",
    "        :param Tensor[batch_size,  src_len] src_mask\n",
    "        :return Tensor[batch_size, src_len, d_model] outputs\n",
    "        \"\"\"\n",
    "        context, _ = self.multi_head_attention_layer(query=src_inputs, key=src_inputs, value=src_inputs, mask=src_mask)\n",
    "        context = self.multi_head_attention_layer_norm(self.dropout(context) + src_inputs)\n",
    "        \n",
    "        outputs = self.position_wise_feed_forward_layer(context)\n",
    "        outputs = self.position_wise_feed_forward_layer_norm(self.dropout(outputs) + context)\n",
    "        \n",
    "        return outputs"
   ]
  },
  {
   "cell_type": "markdown",
   "metadata": {},
   "source": [
    "***Decoder Block Layer***"
   ]
  },
  {
   "cell_type": "code",
   "execution_count": 18,
   "metadata": {},
   "outputs": [],
   "source": [
    "class DecoderBlockLayer(nn.Module):\n",
    "    \n",
    "    def __init__(self, d_model, n_heads, hidden_size, dropout):\n",
    "        super(DecoderBlockLayer, self).__init__()\n",
    "        self.d_model = d_model\n",
    "        self.n_heads = n_heads\n",
    "        self.hidden_size = hidden_size\n",
    "        self.dropout = nn.Dropout(p=dropout)\n",
    "        self.mask_multi_head_attention_layer = MultiHeadAttentionLayer(d_model=d_model, n_heads=n_heads)\n",
    "        self.mask_multi_head_attention_layer_norm = nn.LayerNorm(d_model)\n",
    "        self.multi_head_attention_layer = MultiHeadAttentionLayer(d_model=d_model, n_heads=n_heads)\n",
    "        self.multi_head_attention_layer_norm = nn.LayerNorm(d_model)\n",
    "        self.position_wise_feed_forward_layer = PositionWiseFeedForwardLayer(d_model=d_model, hidden_size=hidden_size)\n",
    "        self.position_wise_feed_forward_layer_norm = nn.LayerNorm(d_model)\n",
    "    \n",
    "    def forward(self, dest_inputs, src_encoded, dest_mask, src_mask):\n",
    "        \"\"\"\n",
    "        :param Tensor[batch_size, dest_len, d_model] dest_inputs\n",
    "        :param Tensor[batch_size, src_len, d_model] src_encoded\n",
    "        :param Tensor[batch_size,  dest_len] dest_mask\n",
    "        :param Tensor[batch_size,  src_len] src_mask\n",
    "        :return Tensor[batch_size, dest_len, d_model] outputs\n",
    "        :return Tensor[batch_size, n_heads, dest_len, src_len] attention_weights\n",
    "        \"\"\"\n",
    "        masked_context, _ = self.mask_multi_head_attention_layer(query=dest_inputs, key=dest_inputs, value=dest_inputs, mask=dest_mask)\n",
    "        masked_context = self.mask_multi_head_attention_layer_norm(self.dropout(masked_context) + dest_inputs)\n",
    "        \n",
    "        context, attention_weights = self.multi_head_attention_layer(query=masked_context, key=src_encoded, value=src_encoded, mask=src_mask)\n",
    "        context = self.multi_head_attention_layer_norm(self.dropout(context) + masked_context)\n",
    "        \n",
    "        outputs = self.position_wise_feed_forward_layer(context)\n",
    "        outputs = self.position_wise_feed_forward_layer_norm(self.dropout(outputs) + context)\n",
    "        \n",
    "        return outputs, attention_weights"
   ]
  },
  {
   "cell_type": "markdown",
   "metadata": {},
   "source": [
    "***Encoder Layer***"
   ]
  },
  {
   "cell_type": "code",
   "execution_count": 19,
   "metadata": {},
   "outputs": [],
   "source": [
    "class EncoderLayer(nn.Module):\n",
    "    \n",
    "    def __init__(self, vocab_size, max_len, d_model, n_heads, hidden_size, dropout, n_layers):\n",
    "        super(EncoderLayer, self).__init__()\n",
    "        self.vocab_size = vocab_size\n",
    "        self.max_len = max_len\n",
    "        self.d_model = d_model\n",
    "        self.n_heads = n_heads\n",
    "        self.hidden_size = hidden_size\n",
    "        self.dropout = nn.Dropout(p=dropout)\n",
    "        self.n_layers = n_layers\n",
    "        self.token_embedding = nn.Embedding(vocab_size, d_model)\n",
    "        self.position_encoding = PositionalEncodingLayer(d_model=d_model, max_len=max_len)\n",
    "        self.encoder_block_layers = nn.ModuleList([EncoderBlockLayer(d_model=d_model, n_heads=n_heads, hidden_size=hidden_size,\n",
    "                                                                     dropout=dropout) for _ in range(n_layers)])\n",
    "    \n",
    "    def forward(self, src_sequences, src_mask):\n",
    "        \"\"\"\n",
    "        :param Tensor[batch_size, src_len] src_sequences\n",
    "        :param Tensor[batch_size, src_len] src_mask\n",
    "        :return Tensor[batch_size, src_len, d_model] outputs\n",
    "        \"\"\"\n",
    "        token_embedded = self.token_embedding(src_sequences) # [batch_size, src_len, d_model]\n",
    "        position_encoded = self.position_encoding(src_sequences) # [batch_size, src_len, d_model]\n",
    "        outputs = self.dropout(token_embedded) + position_encoded # [batch_size, src_len, d_model]\n",
    "        for layer in self.encoder_block_layers:\n",
    "            outputs = layer(src_inputs=outputs, src_mask=src_mask) # [batch_size, src_len, d_model]\n",
    "        return outputs"
   ]
  },
  {
   "cell_type": "markdown",
   "metadata": {},
   "source": [
    "***Decoder Layer***"
   ]
  },
  {
   "cell_type": "code",
   "execution_count": 20,
   "metadata": {},
   "outputs": [],
   "source": [
    "class DecoderLayer(nn.Module):\n",
    "    \n",
    "    def __init__(self, vocab_size, max_len, d_model, n_heads, hidden_size, dropout, n_layers):\n",
    "        super(DecoderLayer, self).__init__()\n",
    "        self.vocab_size = vocab_size\n",
    "        self.max_len = max_len\n",
    "        self.d_model = d_model\n",
    "        self.n_heads = n_heads\n",
    "        self.hidden_size = hidden_size\n",
    "        self.dropout = nn.Dropout(p=dropout)\n",
    "        self.n_layers = n_layers\n",
    "        self.token_embedding = nn.Embedding(vocab_size, d_model)\n",
    "        self.position_encoding = PositionalEncodingLayer(d_model=d_model, max_len=max_len)\n",
    "        self.decoder_block_layers = nn.ModuleList([DecoderBlockLayer(d_model=d_model, n_heads=n_heads, hidden_size=hidden_size, dropout=dropout) for _ in range(n_layers)])\n",
    "        self.fc = nn.Linear(d_model, vocab_size)\n",
    "    \n",
    "    def forward(self, dest_sequences, src_encoded, dest_mask, src_mask):\n",
    "        \"\"\"\n",
    "        :param Tensor[batch_size, dest_len] dest_sequences\n",
    "        :param Tensor[batch_size, src_len, d_model] src_encoded\n",
    "        :param Tensor[batch_size, dest_len, d_model] dest_mask\n",
    "        :param Tensor[batch_size, src_len, d_model] src_mask\n",
    "        :return Tensor[batch_size, dest_len, vocab_size] logits\n",
    "        :return Tensor[batch_size, n_heads, dest_len, src_len] attention_weights\n",
    "        \"\"\"\n",
    "        token_embedded = self.token_embedding(dest_sequences) # [batch_size, dest_len, d_model]\n",
    "        position_encoded = self.position_encoding(dest_sequences) # [batch_size, dest_len, d_model]\n",
    "        outputs = self.dropout(token_embedded) + position_encoded # [batch_size, dest_len, d_model]\n",
    "        for layer in self.decoder_block_layers:\n",
    "            outputs, attention_weights = layer(dest_inputs=outputs, src_encoded=src_encoded, dest_mask=dest_mask, src_mask=src_mask)\n",
    "        logits = self.fc(outputs)\n",
    "        return logits, attention_weights"
   ]
  },
  {
   "cell_type": "markdown",
   "metadata": {},
   "source": [
    "***Transformer Model***"
   ]
  },
  {
   "cell_type": "code",
   "execution_count": 21,
   "metadata": {},
   "outputs": [],
   "source": [
    "class Transformer(nn.Module):\n",
    "    \n",
    "    def __init__(self, encoder, decoder, src_pad_index, dest_pad_index):\n",
    "        super(Transformer, self).__init__()\n",
    "        self.encoder = encoder\n",
    "        self.decoder = decoder\n",
    "        self.src_pad_index = src_pad_index\n",
    "        self.dest_pad_index = dest_pad_index\n",
    "\n",
    "    def make_src_mask(self, src_sequences):\n",
    "        \"\"\"Mask <pad> tokens.\n",
    "        :param Tensor[batch_size, src_len] src_sequences\n",
    "        :return Tensor[batch size, 1, 1, src len] src_mask\n",
    "        \"\"\"        \n",
    "        src_mask = (src_sequences != self.src_pad_index).unsqueeze(1).unsqueeze(2)\n",
    "        return src_mask\n",
    "    \n",
    "    def make_dest_mask(self, dest_sequences):\n",
    "        \"\"\"Mask <pad> tokens and futur tokens as well.\n",
    "        :param Tensor[batch_size, dest_len] dest_sequences\n",
    "        :return tensor[batch_size, 1, dest_len, dest_len] dest_mask\n",
    "        \"\"\"\n",
    "        mask = (dest_sequences != self.dest_pad_index).unsqueeze(1).unsqueeze(2) # [batch size, 1, 1, trg len]\n",
    "        sub_mask = torch.tril(torch.ones((dest_sequences.size(1), dest_sequences.size(1))).to(dest_sequences.device)).bool() # [trg len, trg len]        \n",
    "        return mask & sub_mask\n",
    "    \n",
    "    def forward(self, src_sequences, dest_sequences):\n",
    "        \"\"\"\n",
    "        :param Tensor[batch_size, src_len] src_sequences\n",
    "        :param Tensor[batch_size, dest_len] dest_sequences\n",
    "        :return Tensor[batch_size, dest_len, vocab_size] logits\n",
    "        :return Tensor[batch_size, n_heads, dest_len, src_len] attention_weights\n",
    "        \"\"\"\n",
    "        src_mask, dest_mask = self.make_src_mask(src_sequences), self.make_dest_mask(dest_sequences)\n",
    "        src_encoded = self.encoder(src_sequences=src_sequences, src_mask=src_mask)\n",
    "        logits, attention_weights = self.decoder(dest_sequences=dest_sequences, src_encoded=src_encoded, dest_mask=dest_mask, src_mask=src_mask)\n",
    "        return logits, attention_weights"
   ]
  },
  {
   "cell_type": "markdown",
   "metadata": {},
   "source": [
    "***Training routines***"
   ]
  },
  {
   "cell_type": "code",
   "execution_count": 22,
   "metadata": {},
   "outputs": [],
   "source": [
    "class AverageMeter:\n",
    "    \n",
    "    def __init__(self):\n",
    "        self.value = 0.\n",
    "        self.sum = 0.\n",
    "        self.count = 0\n",
    "        self.average = 0.\n",
    "        \n",
    "    def reset(self):\n",
    "        self.value = 0.\n",
    "        self.sum = 0.\n",
    "        self.count = 0\n",
    "        self.average = 0.\n",
    "        \n",
    "    def update(self, value, n=1):\n",
    "        self.value = value\n",
    "        self.sum += value * n\n",
    "        self.count += n\n",
    "        self.average = self.sum / self.count"
   ]
  },
  {
   "cell_type": "code",
   "execution_count": 23,
   "metadata": {},
   "outputs": [],
   "source": [
    "def accuracy(outputs, target_sequences, k=5):\n",
    "    \"\"\" Calculate Top-k accuracy\n",
    "    :param Tensor[batch_size, dest_seq_len, vocab_size] outputs\n",
    "    :param Tensor[batch_size, dest_seq_len] target_sequences\n",
    "    :return float Top-k accuracy\n",
    "    \"\"\"\n",
    "    # print([*map(lambda token: EN.vocab.itos[token], outputs.argmax(dim=-1)[0].tolist())])\n",
    "    # print([*map(lambda token: EN.vocab.itos[token], target_sequences[0].tolist())])\n",
    "    # print(\"=\"*100)\n",
    "    batch_size = target_sequences.size(0)\n",
    "    _, indices = outputs.topk(k, dim=2, largest=True, sorted=True) # [batch_size, dest_seq_len, 5]\n",
    "    correct = indices.eq(target_sequences.unsqueeze(-1).expand_as(indices))\n",
    "    correct_total = correct.view(-1).float().sum()  # 0D tensor\n",
    "    return correct_total.item() * (100.0 / indices.numel())"
   ]
  },
  {
   "cell_type": "code",
   "execution_count": 24,
   "metadata": {},
   "outputs": [],
   "source": [
    "class Trainer:\n",
    "    \n",
    "    def __init__(self, model, optimizer, criterion):\n",
    "        self.model = model\n",
    "        self.optimizer = optimizer\n",
    "        self.criterion = criterion\n",
    "    \n",
    "    def train_step(self, loader, epoch, grad_clip):\n",
    "        loss_tracker, acc_tracker = AverageMeter(), AverageMeter()\n",
    "        self.model.train()\n",
    "        progress_bar = tqdm.tqdm(enumerate(loader), total=len(loader))\n",
    "        for i, batch in progress_bar:\n",
    "            src, trg = batch.src, batch.trg\n",
    "            self.optimizer.zero_grad()\n",
    "            logits, _ = self.model(src, trg[:, :-1]) # [batch_size, dest_len, vocab_size]\n",
    "            loss = self.criterion(logits.contiguous().view(-1, self.model.decoder.vocab_size), trg[:, 1:].contiguous().view(-1))\n",
    "            loss.backward()\n",
    "            nn.utils.clip_grad_norm_(self.model.parameters(), grad_clip)\n",
    "            self.optimizer.step()\n",
    "            loss_tracker.update(loss.item())\n",
    "            acc_tracker.update(accuracy(logits, trg[:, 1:]))\n",
    "            loss_, ppl_, acc_ = loss_tracker.average, np.exp(loss_tracker.average), acc_tracker.average\n",
    "            progress_bar.set_description(f'Epoch: {epoch+1:02d} -     loss: {loss_:.3f} -     ppl: {ppl_:.3f} -     acc: {acc_:.3f}%')\n",
    "        return loss_tracker.average, np.exp(loss_tracker.average), acc_tracker.average\n",
    "    \n",
    "    def validate(self, loader, epoch):\n",
    "        loss_tracker, acc_tracker = AverageMeter(), AverageMeter()\n",
    "        self.model.eval()\n",
    "        with torch.no_grad():\n",
    "            progress_bar = tqdm.tqdm(enumerate(loader), total=len(loader))\n",
    "            for i, batch in progress_bar:\n",
    "                src, trg = batch.src, batch.trg\n",
    "                logits, _ = self.model(src, trg[:, :-1]) # [batch_size, dest_len, vocab_size]\n",
    "                loss = self.criterion(logits.contiguous().view(-1, self.model.decoder.vocab_size), trg[:, 1:].contiguous().view(-1))\n",
    "                loss_tracker.update(loss.item())\n",
    "                acc_tracker.update(accuracy(logits, trg[:, 1:]))\n",
    "                loss_, ppl_, acc_ = loss_tracker.average, np.exp(loss_tracker.average), acc_tracker.average\n",
    "                progress_bar.set_description(f'Epoch: {epoch+1:02d} - val_loss: {loss_:.3f} - val_ppl: {ppl_:.3f} - val_acc: {acc_:.3f}%')\n",
    "        return loss_tracker.average, np.exp(loss_tracker.average), acc_tracker.average\n",
    "    \n",
    "    def train(self, train_loader, valid_loader, n_epochs, grad_clip):\n",
    "        history, best_loss = {'acc': [], 'loss': [], 'ppl': [], 'val_ppl': [], 'val_acc': [], 'val_loss': []}, np.inf\n",
    "        \n",
    "        \n",
    "        for epoch in range(n_epochs):\n",
    "            start_time = time.time()\n",
    "            loss, ppl, acc = self.train_step(train_loader, epoch, grad_clip)\n",
    "            val_loss, val_ppl, val_acc = self.validate(valid_loader, epoch)\n",
    "            if best_loss > val_loss:\n",
    "                best_loss = val_loss\n",
    "                torch.save({'epoch': epoch + 1,\n",
    "                    'state_dict': self.model.state_dict(),\n",
    "                    'optimizer' : self.optimizer.state_dict(), 'chk_train_loss' : loss,   'chk_valid_loss' : val_loss\n",
    "                     }, './pre-training-LTR-transformer.pth')\n",
    "            \n",
    "            end_time = time.time()  \n",
    "            epoch_mins, epoch_secs = epoch_time(start_time, end_time)               \n",
    "            print(f'Epoch: {epoch+1:02} | Time: {epoch_mins}m {epoch_secs}s')    \n",
    "                \n",
    "            history['acc'].append(acc); history['val_acc'].append(val_acc)\n",
    "            history['ppl'].append(ppl); history['val_ppl'].append(val_ppl)\n",
    "            history['loss'].append(loss); history['val_loss'].append(val_loss)\n",
    "        return history"
   ]
  },
  {
   "cell_type": "code",
   "execution_count": 25,
   "metadata": {},
   "outputs": [],
   "source": [
    "def epoch_time(start_time, end_time):\n",
    "    elapsed_time = end_time - start_time\n",
    "    elapsed_mins = int(elapsed_time / 60)\n",
    "    elapsed_secs = int(elapsed_time - (elapsed_mins * 60))\n",
    "    return elapsed_mins, elapsed_secs"
   ]
  },
  {
   "cell_type": "markdown",
   "metadata": {},
   "source": [
    "***Train the model***"
   ]
  },
  {
   "cell_type": "code",
   "execution_count": 26,
   "metadata": {},
   "outputs": [],
   "source": [
    "D_MODEL = 256\n",
    "N_LAYERS = 4\n",
    "N_HEADS = 8\n",
    "HIDDEN_SIZE = 512\n",
    "MAX_LEN = 400\n",
    "DROPOUT = 0.15\n",
    "BATCH_SIZE = 128\n",
    "LR = 1e-3\n",
    "N_EPOCHS = 10\n",
    "GRAD_CLIP = 1"
   ]
  },
  {
   "cell_type": "code",
   "execution_count": 30,
   "metadata": {},
   "outputs": [],
   "source": [
    "class MultipleGPUs(nn.DataParallel):\n",
    "    def __getattr__(self, name):\n",
    "        if name == \"module\":\n",
    "            return super().__getattr__(\"module\")\n",
    "        else:\n",
    "            return getattr(self.module, name)"
   ]
  },
  {
   "cell_type": "code",
   "execution_count": 27,
   "metadata": {},
   "outputs": [],
   "source": [
    "transformer = Transformer(\n",
    "    encoder=EncoderLayer(\n",
    "        vocab_size=len(SRC.vocab),\n",
    "        max_len=MAX_LEN,\n",
    "        d_model=D_MODEL,\n",
    "        n_heads=N_HEADS,\n",
    "        hidden_size=HIDDEN_SIZE,\n",
    "        dropout=DROPOUT,\n",
    "        n_layers=N_LAYERS\n",
    "    ),\n",
    "    decoder=DecoderLayer(\n",
    "        vocab_size=len(TRG.vocab),\n",
    "        max_len=MAX_LEN,\n",
    "        d_model=D_MODEL,\n",
    "        n_heads=N_HEADS,\n",
    "        hidden_size=HIDDEN_SIZE,\n",
    "        dropout=DROPOUT,\n",
    "        n_layers=N_LAYERS\n",
    "    ),\n",
    "    src_pad_index=SRC.vocab.stoi[SRC.pad_token],\n",
    "    dest_pad_index=TRG.vocab.stoi[TRG.pad_token]\n",
    ").to(DEVICE)\n",
    "\n",
    "#transformer = MultipleGPUs(transformer).to(DEVICE)\n",
    "\n",
    "optimizer = optim.Adam(params=transformer.parameters(), lr=LR)\n",
    "criterion = nn.CrossEntropyLoss(ignore_index=TRG.vocab.stoi[TRG.pad_token])\n",
    "trainer = Trainer(model=transformer, optimizer=optimizer, criterion=criterion)"
   ]
  },
  {
   "cell_type": "code",
   "execution_count": 28,
   "metadata": {},
   "outputs": [],
   "source": [
    "train_iterator, valid_iterator =  BucketIterator.splits((train_data, valid_data), sort_key=lambda x: len(x.src),\n",
    "     batch_size = BATCH_SIZE, device = DEVICE)"
   ]
  },
  {
   "cell_type": "code",
   "execution_count": 29,
   "metadata": {
    "scrolled": false
   },
   "outputs": [
    {
     "name": "stderr",
     "output_type": "stream",
     "text": [
      "Epoch: 01 -     loss: 2.312 -     ppl: 10.099 -     acc: 4.371%: 100%|██████████| 443/443 [01:04<00:00,  6.87it/s]\n",
      "Epoch: 01 - val_loss: 0.957 - val_ppl: 2.604 - val_acc: 15.171%: 100%|██████████| 35/35 [00:00<00:00, 62.17it/s]\n",
      "  0%|          | 0/443 [00:00<?, ?it/s]"
     ]
    },
    {
     "name": "stdout",
     "output_type": "stream",
     "text": [
      "Epoch: 01 | Time: 1m 5s\n"
     ]
    },
    {
     "name": "stderr",
     "output_type": "stream",
     "text": [
      "Epoch: 02 -     loss: 0.972 -     ppl: 2.644 -     acc: 5.465%: 100%|██████████| 443/443 [01:05<00:00,  6.79it/s]\n",
      "Epoch: 02 - val_loss: 0.676 - val_ppl: 1.967 - val_acc: 15.665%: 100%|██████████| 35/35 [00:00<00:00, 61.53it/s]\n",
      "  0%|          | 0/443 [00:00<?, ?it/s]"
     ]
    },
    {
     "name": "stdout",
     "output_type": "stream",
     "text": [
      "Epoch: 02 | Time: 1m 5s\n"
     ]
    },
    {
     "name": "stderr",
     "output_type": "stream",
     "text": [
      "Epoch: 03 -     loss: 0.683 -     ppl: 1.980 -     acc: 5.585%: 100%|██████████| 443/443 [01:05<00:00,  6.79it/s]\n",
      "Epoch: 03 - val_loss: 0.557 - val_ppl: 1.746 - val_acc: 15.836%: 100%|██████████| 35/35 [00:00<00:00, 62.24it/s]\n",
      "Epoch: 04 -     loss: 0.566 -     ppl: 1.762 -     acc: 6.438%:   0%|          | 1/443 [00:00<01:16,  5.80it/s]"
     ]
    },
    {
     "name": "stdout",
     "output_type": "stream",
     "text": [
      "Epoch: 03 | Time: 1m 5s\n"
     ]
    },
    {
     "name": "stderr",
     "output_type": "stream",
     "text": [
      "Epoch: 04 -     loss: 0.555 -     ppl: 1.742 -     acc: 5.661%: 100%|██████████| 443/443 [01:05<00:00,  6.77it/s]\n",
      "Epoch: 04 - val_loss: 0.509 - val_ppl: 1.663 - val_acc: 15.902%: 100%|██████████| 35/35 [00:00<00:00, 62.03it/s]\n",
      "Epoch: 05 -     loss: 0.407 -     ppl: 1.503 -     acc: 7.576%:   0%|          | 1/443 [00:00<01:16,  5.76it/s]"
     ]
    },
    {
     "name": "stdout",
     "output_type": "stream",
     "text": [
      "Epoch: 04 | Time: 1m 6s\n"
     ]
    },
    {
     "name": "stderr",
     "output_type": "stream",
     "text": [
      "Epoch: 05 -     loss: 0.484 -     ppl: 1.623 -     acc: 5.719%: 100%|██████████| 443/443 [01:05<00:00,  6.79it/s]\n",
      "Epoch: 05 - val_loss: 0.488 - val_ppl: 1.629 - val_acc: 15.929%: 100%|██████████| 35/35 [00:00<00:00, 61.92it/s]\n",
      "  0%|          | 0/443 [00:00<?, ?it/s]"
     ]
    },
    {
     "name": "stdout",
     "output_type": "stream",
     "text": [
      "Epoch: 05 | Time: 1m 5s\n"
     ]
    },
    {
     "name": "stderr",
     "output_type": "stream",
     "text": [
      "Epoch: 06 -     loss: 0.445 -     ppl: 1.560 -     acc: 5.739%: 100%|██████████| 443/443 [01:05<00:00,  6.79it/s]\n",
      "Epoch: 06 - val_loss: 0.471 - val_ppl: 1.602 - val_acc: 15.940%: 100%|██████████| 35/35 [00:00<00:00, 62.30it/s]\n",
      "Epoch: 07 -     loss: 0.396 -     ppl: 1.486 -     acc: 6.253%:   0%|          | 1/443 [00:00<01:20,  5.49it/s]"
     ]
    },
    {
     "name": "stdout",
     "output_type": "stream",
     "text": [
      "Epoch: 06 | Time: 1m 5s\n"
     ]
    },
    {
     "name": "stderr",
     "output_type": "stream",
     "text": [
      "Epoch: 07 -     loss: 0.416 -     ppl: 1.517 -     acc: 5.733%: 100%|██████████| 443/443 [01:05<00:00,  6.75it/s]\n",
      "Epoch: 07 - val_loss: 0.468 - val_ppl: 1.596 - val_acc: 15.958%: 100%|██████████| 35/35 [00:00<00:00, 59.83it/s]\n",
      "  0%|          | 0/443 [00:00<?, ?it/s]"
     ]
    },
    {
     "name": "stdout",
     "output_type": "stream",
     "text": [
      "Epoch: 07 | Time: 1m 6s\n"
     ]
    },
    {
     "name": "stderr",
     "output_type": "stream",
     "text": [
      "Epoch: 08 -     loss: 0.393 -     ppl: 1.481 -     acc: 5.749%: 100%|██████████| 443/443 [01:05<00:00,  6.73it/s]\n",
      "Epoch: 08 - val_loss: 0.462 - val_ppl: 1.588 - val_acc: 15.959%: 100%|██████████| 35/35 [00:00<00:00, 62.20it/s]\n",
      "  0%|          | 0/443 [00:00<?, ?it/s]"
     ]
    },
    {
     "name": "stdout",
     "output_type": "stream",
     "text": [
      "Epoch: 08 | Time: 1m 6s\n"
     ]
    },
    {
     "name": "stderr",
     "output_type": "stream",
     "text": [
      "Epoch: 09 -     loss: 0.372 -     ppl: 1.451 -     acc: 5.829%: 100%|██████████| 443/443 [01:05<00:00,  6.79it/s]\n",
      "Epoch: 09 - val_loss: 0.453 - val_ppl: 1.573 - val_acc: 15.977%: 100%|██████████| 35/35 [00:00<00:00, 61.64it/s]\n",
      "Epoch: 10 -     loss: 0.344 -     ppl: 1.410 -     acc: 6.744%:   0%|          | 1/443 [00:00<01:17,  5.69it/s]"
     ]
    },
    {
     "name": "stdout",
     "output_type": "stream",
     "text": [
      "Epoch: 09 | Time: 1m 5s\n"
     ]
    },
    {
     "name": "stderr",
     "output_type": "stream",
     "text": [
      "Epoch: 10 -     loss: 0.357 -     ppl: 1.429 -     acc: 5.813%: 100%|██████████| 443/443 [01:05<00:00,  6.81it/s]\n",
      "Epoch: 10 - val_loss: 0.447 - val_ppl: 1.564 - val_acc: 15.989%: 100%|██████████| 35/35 [00:00<00:00, 64.46it/s] \n"
     ]
    },
    {
     "name": "stdout",
     "output_type": "stream",
     "text": [
      "Epoch: 10 | Time: 1m 5s\n"
     ]
    }
   ],
   "source": [
    "history = trainer.train(train_loader=train_iterator, valid_loader=valid_iterator, n_epochs=N_EPOCHS, grad_clip=GRAD_CLIP)"
   ]
  },
  {
   "cell_type": "code",
   "execution_count": 30,
   "metadata": {},
   "outputs": [
    {
     "data": {
      "image/png": "[encoded data removed]",
      "text/plain": [
       "<Figure size 1080x360 with 3 Axes>"
      ]
     },
     "metadata": {},
     "output_type": "display_data"
    }
   ],
   "source": [
    "_, axes = plt.subplots(1, 3, figsize=(15, 5))\n",
    "\n",
    "axes[0].plot(history['loss'], label='train')\n",
    "axes[0].plot(history['val_loss'], label='valid')\n",
    "axes[0].set_title('Loss history')\n",
    "axes[0].set_xlabel('Epoch')\n",
    "axes[0].set_ylabel('Loss')\n",
    "axes[0].grid(True)\n",
    "axes[0].legend()\n",
    "\n",
    "axes[1].plot(history['ppl'], label='train')\n",
    "axes[1].plot(history['val_ppl'], label='valid')\n",
    "axes[1].set_title('Perplexity history')\n",
    "axes[1].set_xlabel('Epoch')\n",
    "axes[1].set_ylabel('Perplexity')\n",
    "axes[1].grid(True)\n",
    "axes[1].legend()\n",
    "\n",
    "axes[2].plot(history['acc'], label='train')\n",
    "axes[2].plot(history['val_acc'], label='valid')\n",
    "axes[2].set_title('Top-5 Accuracy & BLEU-4 history')\n",
    "axes[2].set_xlabel('Epoch')\n",
    "axes[2].set_ylabel('Accuracy & BLEU-4 (%)')\n",
    "axes[2].grid(True)\n",
    "axes[2].legend()\n",
    "\n",
    "plt.show()"
   ]
  },
  {
   "cell_type": "code",
   "execution_count": 31,
   "metadata": {},
   "outputs": [],
   "source": [
    "D_MODEL = 256\n",
    "N_LAYERS = 4\n",
    "N_HEADS = 8\n",
    "HIDDEN_SIZE = 512\n",
    "MAX_LEN = 400\n",
    "DROPOUT = 0.15\n",
    "BATCH_SIZE = 128\n",
    "LR = 1e-1\n",
    "N_EPOCHS = 2\n",
    "GRAD_CLIP = 1.0"
   ]
  },
  {
   "cell_type": "code",
   "execution_count": 32,
   "metadata": {},
   "outputs": [],
   "source": [
    "train_data, valid_data = TabularDataset.splits(path='Data/',train='fce-train.csv',\n",
    "    validation='fce-devlop.csv' , format='csv',\n",
    "    fields=[('src', SRC), ('trg', TRG)], skip_header=True)"
   ]
  },
  {
   "cell_type": "code",
   "execution_count": 33,
   "metadata": {
    "scrolled": false
   },
   "outputs": [
    {
     "data": {
      "text/plain": [
       "<All keys matched successfully>"
      ]
     },
     "execution_count": 33,
     "metadata": {},
     "output_type": "execute_result"
    }
   ],
   "source": [
    "checkpoint = torch.load('./pre-training-LTR-transformer.pth')\n",
    "optimizer.load_state_dict(checkpoint['optimizer'])          \n",
    "epoch = checkpoint['epoch'] \n",
    "train_loss = checkpoint['chk_train_loss']\n",
    "valid_loss = checkpoint['chk_valid_loss']\n",
    "transformer.load_state_dict(checkpoint['state_dict'])"
   ]
  },
  {
   "cell_type": "code",
   "execution_count": 34,
   "metadata": {},
   "outputs": [],
   "source": [
    "train_iterator, valid_iterator, _ =  BucketIterator.splits((train_data, valid_data, test_data), sort_key=lambda x: len(x.src),\n",
    "     batch_size = BATCH_SIZE, device = DEVICE)"
   ]
  },
  {
   "cell_type": "code",
   "execution_count": 35,
   "metadata": {},
   "outputs": [
    {
     "name": "stderr",
     "output_type": "stream",
     "text": [
      "Epoch: 01 -     loss: 0.293 -     ppl: 1.340 -     acc: 5.740%: 100%|██████████| 222/222 [00:32<00:00,  6.85it/s]\n",
      "Epoch: 01 - val_loss: 0.394 - val_ppl: 1.482 - val_acc: 15.107%: 100%|██████████| 18/18 [00:00<00:00, 59.83it/s]\n",
      "Epoch: 02 -     loss: 0.255 -     ppl: 1.290 -     acc: 7.178%:   0%|          | 1/222 [00:00<00:33,  6.64it/s]"
     ]
    },
    {
     "name": "stdout",
     "output_type": "stream",
     "text": [
      "Epoch: 01 | Time: 0m 32s\n"
     ]
    },
    {
     "name": "stderr",
     "output_type": "stream",
     "text": [
      "Epoch: 02 -     loss: 0.259 -     ppl: 1.296 -     acc: 5.805%: 100%|██████████| 222/222 [00:32<00:00,  6.80it/s]\n",
      "Epoch: 02 - val_loss: 0.401 - val_ppl: 1.493 - val_acc: 15.113%: 100%|██████████| 18/18 [00:00<00:00, 60.40it/s]"
     ]
    },
    {
     "name": "stdout",
     "output_type": "stream",
     "text": [
      "Epoch: 02 | Time: 0m 32s\n"
     ]
    },
    {
     "name": "stderr",
     "output_type": "stream",
     "text": [
      "\n"
     ]
    }
   ],
   "source": [
    "history = trainer.train(train_loader=train_iterator, valid_loader=valid_iterator, n_epochs=N_EPOCHS, grad_clip=GRAD_CLIP)"
   ]
  },
  {
   "cell_type": "code",
   "execution_count": 36,
   "metadata": {},
   "outputs": [
    {
     "data": {
      "text/plain": [
       "<All keys matched successfully>"
      ]
     },
     "execution_count": 36,
     "metadata": {},
     "output_type": "execute_result"
    }
   ],
   "source": [
    "checkpoint = torch.load('./pre-training-LTR-transformer.pth')\n",
    "optimizer.load_state_dict(checkpoint['optimizer'])          \n",
    "epoch = checkpoint['epoch'] \n",
    "train_loss = checkpoint['chk_train_loss']\n",
    "valid_loss = checkpoint['chk_valid_loss']\n",
    "transformer.load_state_dict(checkpoint['state_dict'])"
   ]
  },
  {
   "cell_type": "code",
   "execution_count": 37,
   "metadata": {},
   "outputs": [
    {
     "data": {
      "image/png": "[encoded data removed]",
      "text/plain": [
       "<Figure size 1080x360 with 3 Axes>"
      ]
     },
     "metadata": {},
     "output_type": "display_data"
    }
   ],
   "source": [
    "_, axes = plt.subplots(1, 3, figsize=(15, 5))\n",
    "\n",
    "axes[0].plot(history['loss'], label='train')\n",
    "axes[0].plot(history['val_loss'], label='valid')\n",
    "axes[0].set_title('Loss history')\n",
    "axes[0].set_xlabel('Epoch')\n",
    "axes[0].set_ylabel('Loss')\n",
    "axes[0].grid(True)\n",
    "axes[0].legend()\n",
    "\n",
    "axes[1].plot(history['ppl'], label='train')\n",
    "axes[1].plot(history['val_ppl'], label='valid')\n",
    "axes[1].set_title('Perplexity history')\n",
    "axes[1].set_xlabel('Epoch')\n",
    "axes[1].set_ylabel('Perplexity')\n",
    "axes[1].grid(True)\n",
    "axes[1].legend()\n",
    "\n",
    "axes[2].plot(history['acc'], label='train')\n",
    "axes[2].plot(history['val_acc'], label='valid')\n",
    "axes[2].set_title('Top-5 Accuracy & BLEU-4 history')\n",
    "axes[2].set_xlabel('Epoch')\n",
    "axes[2].set_ylabel('Accuracy & BLEU-4 (%)')\n",
    "axes[2].grid(True)\n",
    "axes[2].legend()\n",
    "\n",
    "plt.show()"
   ]
  },
  {
   "cell_type": "markdown",
   "metadata": {},
   "source": [
    "## Evaluation - Beam search & BLEU score"
   ]
  },
  {
   "cell_type": "code",
   "execution_count": 38,
   "metadata": {},
   "outputs": [],
   "source": [
    "from beam_utils import Node, find_best_path, find_path"
   ]
  },
  {
   "cell_type": "code",
   "execution_count": 39,
   "metadata": {},
   "outputs": [],
   "source": [
    "def evaluate(model, data, beam_size, src_field, dest_field, max_len, device):\n",
    "    src_sentences = [*map(lambda example: example.src, data.examples)]\n",
    "    dest_sentences = [*map(lambda example: example.trg, data.examples)]\n",
    "    data = [*zip([*map(lambda word_list: src_field.process([word_list]), src_sentences)],\n",
    "                 [*map(lambda word_list: dest_field.process([word_list]), dest_sentences)])]\n",
    "    references, hypotheses, sources = [], [], []\n",
    "    model.eval()\n",
    "    with torch.no_grad():\n",
    "        for i, (src_sequence, dest_sequence) in tqdm.tqdm(enumerate(data), total=len(data)):\n",
    "            src_sequence, dest_sequence = src_sequence.to(device), dest_sequence.to(device)\n",
    "            src_mask = model.make_src_mask(src_sequence)\n",
    "            src_encoded = model.encoder(src_sequences=src_sequence, src_mask=src_mask)\n",
    "            # Decoding\n",
    "            tree = [[Node(token=torch.LongTensor([dest_field.vocab.stoi[dest_field.init_token]]).to(device), states=None)]]\n",
    "            for _ in range(max_len):\n",
    "                next_nodes = []\n",
    "                for node in tree[-1]:\n",
    "                    if node.eos: # Skip eos token\n",
    "                        continue\n",
    "                    # Get tokens that're already translated\n",
    "                    already_translated = torch.LongTensor([*map(lambda node: node.token, find_path(tree))][::-1]).unsqueeze(0).to(device)\n",
    "                    dest_mask = model.make_dest_mask(already_translated)\n",
    "                    logit, _ = model.decoder(dest_sequences=already_translated, src_encoded=src_encoded,\n",
    "                                              dest_mask=dest_mask, src_mask=src_mask) # [1, dest_seq_len, vocab_size]                    \n",
    "                    logp = F.log_softmax(logit[:, -1, :], dim=1).squeeze(dim=0) # [vocab_size] Get scores                    \n",
    "                    topk_logps, topk_tokens = torch.topk(logp, beam_size) # Get top k tokens & logps                    \n",
    "                    for k in range(beam_size):\n",
    "                        next_nodes.append(Node(token=topk_tokens[k, None], states=None,\n",
    "                                               logp=topk_logps[k, None].cpu().item(), parent=node,\n",
    "                                               eos=topk_tokens[k].cpu().item() == dest_field.vocab[dest_field.eos_token]))\n",
    "                if len(next_nodes) == 0:\n",
    "                    break\n",
    "                next_nodes = sorted(next_nodes, key=lambda node: node.logps, reverse=True) # Sort next_nodes to get the best\n",
    "                tree.append(next_nodes[:beam_size]) # Update the tree\n",
    "            best_path = find_best_path(tree) # Find the best path of the tree\n",
    "\n",
    "            # Get the translation\n",
    "            pred_translated = [*map(lambda node: dest_field.vocab.itos[node.token], best_path)]\n",
    "            pred_translated = [*filter(lambda word: word not in [dest_field.init_token, dest_field.eos_token], pred_translated[::-1])]\n",
    "\n",
    "            hypotheses.append(pred_translated) # Update hypotheses\n",
    "\n",
    "            # Update references\n",
    "            references.append([[dest_field.vocab.itos[indice] for indice in dest_sequence[0] if indice not in (\n",
    "                dest_field.vocab.stoi[dest_field.init_token],\n",
    "                dest_field.vocab.stoi[dest_field.eos_token],\n",
    "                dest_field.vocab.stoi[dest_field.pad_token]\n",
    "            )]])\n",
    "\n",
    "            # Update sources\n",
    "            sources.append([src_field.vocab.itos[indice]  for indice in src_sequence[0] if indice not in (\n",
    "                src_field.vocab.stoi[src_field.init_token],\n",
    "                src_field.vocab.stoi[src_field.eos_token],\n",
    "                src_field.vocab.stoi[src_field.pad_token]\n",
    "            )])\n",
    "    \n",
    "        assert len(hypotheses) == len(references) == len(sources)\n",
    "        bleu4 = bleu_score(hypotheses, references, max_n=4, weights=[0.25, 0.25, 0.25, 0.25]) # Calculate BLEU-4 score\n",
    "    return hypotheses, references, sources, bleu4"
   ]
  },
  {
   "cell_type": "code",
   "execution_count": 40,
   "metadata": {
    "scrolled": true
   },
   "outputs": [
    {
     "name": "stderr",
     "output_type": "stream",
     "text": [
      "100%|██████████| 2695/2695 [05:40<00:00,  7.91it/s]\n"
     ]
    },
    {
     "name": "stdout",
     "output_type": "stream",
     "text": [
      "BLEU-4: 79.517% with beam_size=1 on test data\n"
     ]
    }
   ],
   "source": [
    "bleu_scores = []\n",
    "for beam_size in [1]:\n",
    "    for name, data in [('test', test_data)]:\n",
    "        _, _, _, bleu4 = evaluate(model=transformer, data=data, beam_size=beam_size, src_field=SRC, dest_field=TRG, max_len=MAX_LEN, device=DEVICE)\n",
    "        bleu_scores.append((beam_size, name, bleu4))\n",
    "        \n",
    "for score in bleu_scores:\n",
    "    print(f'BLEU-4: {score[2]*100:.3f}% with beam_size={score[0]} on {score[1]} data')"
   ]
  },
  {
   "cell_type": "markdown",
   "metadata": {},
   "source": [
    "## Inference"
   ]
  },
  {
   "cell_type": "code",
   "execution_count": 41,
   "metadata": {},
   "outputs": [],
   "source": [
    "def translate(sentences, model, beam_size, src_field, dest_field, max_len, device):\n",
    "    if isinstance(sentences, list):\n",
    "        sentences = [*map(src_field.preprocess, sentences)]\n",
    "        targets = None\n",
    "    if isinstance(sentences, Dataset):\n",
    "        targets = [*map(lambda example: ' '.join(example.trg), sentences.examples)]\n",
    "        sentences = [*map(lambda example: example.src, sentences.examples)]\n",
    "    data = [*map(lambda word_list: src_field.process([word_list]), sentences)]\n",
    "    translated_sentences, attention_weights, pred_logps = [], [], []\n",
    "    model.eval()\n",
    "    with torch.no_grad():\n",
    "        for i, src_sequence in tqdm.tqdm(enumerate(data), total=len(data)):\n",
    "            src_sequence = src_sequence.to(device)\n",
    "            src_mask = model.make_src_mask(src_sequence)\n",
    "            src_encoded = model.encoder(src_sequences=src_sequence, src_mask=src_mask)\n",
    "            tree = [[Node(token=torch.LongTensor([dest_field.vocab.stoi[dest_field.init_token]]).to(device), states=())]]\n",
    "            for _ in range(max_len):\n",
    "                next_nodes = []\n",
    "                for node in tree[-1]:\n",
    "                    if node.eos: # Skip eos token\n",
    "                        continue\n",
    "                    # Get tokens that're already translated\n",
    "                    already_translated = torch.LongTensor([*map(lambda node: node.token, find_path(tree))][::-1]).unsqueeze(0).to(device)\n",
    "                    dest_mask = model.make_dest_mask(already_translated)\n",
    "                    logit, attn_weights = model.decoder(dest_sequences=already_translated, src_encoded=src_encoded,\n",
    "                                              dest_mask=dest_mask, src_mask=src_mask) # [1, dest_seq_len, vocab_size]                      \n",
    "                    logp = F.log_softmax(logit[:, -1, :], dim=1).squeeze(dim=0) # [vocab_size] Get scores                    \n",
    "                    topk_logps, topk_tokens = torch.topk(logp, beam_size) # Get top k tokens & logps                    \n",
    "                    for k in range(beam_size):\n",
    "                        next_nodes.append(Node(token=topk_tokens[k, None], states=(attn_weights,),\n",
    "                                               logp=topk_logps[k, None].cpu().item(), parent=node,\n",
    "                                               eos=topk_tokens[k].cpu().item() == dest_field.vocab[dest_field.eos_token]))\n",
    "                if len(next_nodes) == 0:\n",
    "                    break\n",
    "                next_nodes = sorted(next_nodes, key=lambda node: node.logps, reverse=True)\n",
    "                tree.append(next_nodes[:beam_size])\n",
    "            best_path = find_best_path(tree)[::-1]\n",
    "            # Get the translation\n",
    "            pred_translated = [*map(lambda node: dest_field.vocab.itos[node.token], best_path)]\n",
    "            pred_translated = [*filter(lambda word: word not in [\n",
    "                dest_field.init_token, dest_field.eos_token\n",
    "            ], pred_translated)]\n",
    "            translated_sentences.append(' '.join(pred_translated))\n",
    "            # Get probabilities\n",
    "            pred_logps.append(sum([*map(lambda node: node.logps, best_path)]))\n",
    "            # Get attention weights\n",
    "            attention_weights.append(best_path[-1].states[0].cpu().numpy())\n",
    "        sentences = [*map(lambda sentence: ' '.join(sentence), sentences)]\n",
    "    return sentences, translated_sentences, targets, attention_weights, pred_logps"
   ]
  },
  {
   "cell_type": "code",
   "execution_count": 42,
   "metadata": {},
   "outputs": [
    {
     "name": "stderr",
     "output_type": "stream",
     "text": [
      "100%|██████████| 2695/2695 [05:35<00:00,  8.03it/s]\n"
     ]
    }
   ],
   "source": [
    "sentences, translated_sentences, dest_sentences, attention_weights, pred_logps = translate(sentences=test_data, model=transformer, beam_size=1, src_field=SRC,\n",
    "                                                                                           dest_field=TRG, max_len=MAX_LEN, device=DEVICE)"
   ]
  },
  {
   "cell_type": "code",
   "execution_count": 43,
   "metadata": {},
   "outputs": [
    {
     "data": {
      "text/plain": [
       "'▁de ar ▁m r s ▁sm ith ▁ ,'"
      ]
     },
     "execution_count": 43,
     "metadata": {},
     "output_type": "execute_result"
    }
   ],
   "source": [
    "translated_sentences[0]"
   ]
  },
  {
   "cell_type": "code",
   "execution_count": 44,
   "metadata": {},
   "outputs": [],
   "source": [
    "trg_file = open(\"../m2Scripts/corec_sentes.txt\", \"w\", encoding=\"utf-8\")\n",
    "for line in translated_sentences:\n",
    "    line = line.split()\n",
    "    line = \"\".join(line)\n",
    "    line = line.replace('▁', ' ')\n",
    "    trg_file.write(line + \"\\n\")\n",
    "trg_file.close()"
   ]
  },
  {
   "cell_type": "code",
   "execution_count": null,
   "metadata": {},
   "outputs": [],
   "source": []
  }
 ],
 "metadata": {
  "kernelspec": {
   "display_name": "Python 3",
   "language": "python",
   "name": "python3"
  },
  "language_info": {
   "codemirror_mode": {
    "name": "ipython",
    "version": 3
   },
   "file_extension": ".py",
   "mimetype": "text/x-python",
   "name": "python",
   "nbconvert_exporter": "python",
   "pygments_lexer": "ipython3",
   "version": "3.6.10"
  }
 },
 "nbformat": 4,
 "nbformat_minor": 4
}
